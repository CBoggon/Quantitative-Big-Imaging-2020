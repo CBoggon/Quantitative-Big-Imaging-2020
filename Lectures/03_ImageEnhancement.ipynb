{
 "cells": [
  {
   "cell_type": "code",
   "execution_count": null,
   "metadata": {},
   "outputs": [],
   "source": [
    "%matplotlib inline\n",
    "import matplotlib.pyplot as plt\n",
    "import numpy as np\n",
    "import skimage as ski\n",
    "from skimage.morphology import disk"
   ]
  },
  {
   "cell_type": "markdown",
   "metadata": {
    "slideshow": {
     "slide_type": "slide"
    }
   },
   "source": [
    "# ETHZ: 227-0966-00L\n",
    "# Quantitative Big Imaging\n",
    "# February 21, 2019\n",
    "\n",
    "## Image Enhancement"
   ]
  },
  {
   "cell_type": "markdown",
   "metadata": {
    "slideshow": {
     "slide_type": "slide"
    }
   },
   "source": [
    "# Measurements are rarely perfect\n",
    "<figure><img src=\"ext-figures/lecture03/imperfect_imaging_system.svg\" style=\"height:300px\" align=\"middle\"></figure>\n",
    "\n",
    "## Factors affecting the image quality\n",
    "* Resolution (Imaging system transfer functions)\n",
    "* Noise\n",
    "* Contrast\n",
    "* Inhomogeneous contrast\n",
    "* Artifacts"
   ]
  },
  {
   "cell_type": "markdown",
   "metadata": {
    "slideshow": {
     "slide_type": "notes"
    }
   },
   "source": [
    "No measurement system is perfect and therefore, you will also not get perfect images of the sample you measured. In the figure you can see the slice as it would be in a perfect world to the left and what you actually would measure with an imaging system. Some are of higher quality than others but there are still a collection of factors that have an impact on the image quality.\n",
    "* __Resolution__ Thanks to the optical system there will be some unsharpness caused by scintillator, lenses, and camera. this appears as blurring or the acquired images.\n",
    "* __Noise__ There are different sources of noise when an image is acquired. Most of them are Poisson/Binomial distributed point processes, but thanks to the light spread in the scintillator there can also be some spatially correlated noise.\n",
    "* __Contrast__ Sometimes there is a very low intensity difference between different regions of the sample. This is in particularly problematic when the signal to noise ratio is low.\n",
    "* __Inhomogeneous contrast__ The interaction between radiation and matter may introduce effects that appear as an inhomogeneous contrast. Typical such effects are beam hardening and scattering.\n",
    "* __Artifacts__ The artifacts are features in the image that are not present in the sample. Often this is caused by detector errors or interference of radiation background or seconday radiation events.  \n"
   ]
  },
  {
   "cell_type": "markdown",
   "metadata": {
    "slideshow": {
     "slide_type": "slide"
    }
   },
   "source": [
    "# A typical processing chain\n",
    "\n",
    "<figure><img src=\"ext-figures/lecture03/image_proc_chain.svg\" style=\"height:300px\" align=\"middle\"></figure>\n",
    "Today's lecture will focus on the enhancement"
   ]
  },
  {
   "cell_type": "markdown",
   "metadata": {
    "slideshow": {
     "slide_type": "notes"
    }
   },
   "source": [
    "Traditionally, the processing of image data can be divided into a series of sub tasks that provide the final resul. \n",
    "* __Acquisition__ The data must obviously be acquired and stored. There are cases when simulated data is used. Then, the acquisition is replaced by the process to simulate the data.\n",
    "* __Enhancement__ The raw data is usually not ready to be processed in the form is comes from the acquisition. It usually has noise and artifacts as we saw on the previous slide. The enhancement step suppresses unwanted information in the data.\n",
    "* __Segmentation__ The segmenation identifies different regions based on different features such as intensity distribution and shape.\n",
    "* __Post processing__ After segmentation, there may be falsely identified regions. These are removed in a post processing step. \n",
    "* __Evaluation__ The last step of the process is to make conclusions based on the image data. It could be modelling material distrbutions, measuring shapes etc."
   ]
  },
  {
   "cell_type": "markdown",
   "metadata": {
    "slideshow": {
     "slide_type": "slide"
    }
   },
   "source": [
    "# Noise and artifacts\n",
    "## The unwanted information"
   ]
  },
  {
   "cell_type": "markdown",
   "metadata": {
    "slideshow": {
     "slide_type": "slide"
    }
   },
   "source": [
    "# Noise types\n",
    "* Spatially uncorrelated noise\n",
    "* Event noise\n",
    "* Stuctured noise\n",
    "\n",
    "### Noise examples"
   ]
  },
  {
   "cell_type": "code",
   "execution_count": null,
   "metadata": {
    "slideshow": {
     "slide_type": "-"
    }
   },
   "outputs": [],
   "source": [
    "plt.figure(figsize=[12,5]);\n",
    "plt.subplot(1,3,1);plt.imshow(np.random.normal(0,1,[100,100])); plt.title('Gaussian');plt.axis('off');\n",
    "plt.subplot(1,3,2);plt.imshow(0.90<np.random.uniform(0,1,size=[100,100]),cmap='gray'); plt.title(\"Salt and pepper\"),plt.axis('off');\n",
    "plt.subplot(1,3,3);plt.imshow(ski.filters.gaussian(np.random.normal(0,1,size=[100,100]),sigma=1),cmap='gray'); plt.title(\"Structured\"),plt.axis('off');"
   ]
  },
  {
   "cell_type": "markdown",
   "metadata": {
    "slideshow": {
     "slide_type": "slide"
    }
   },
   "source": [
    "# Gaussian noise\n",
    "* Additive\n",
    "* Easy to model \n",
    "* Law of large numbers\n",
    "\n",
    "### Distribution function\n",
    "$n(x)=\\frac{1}{\\sqrt{2\\pi\\sigma}}\\exp{-\\left(\\frac{x-\\mu}{2\\sigma}\\right)^2}$"
   ]
  },
  {
   "cell_type": "markdown",
   "metadata": {
    "slideshow": {
     "slide_type": "subslide"
    }
   },
   "source": [
    "# Poisson noise\n",
    "* Multiplicative\n",
    "* Physically correct for event counting\n",
    "\n",
    "### Distribition function \n",
    "$p(x)=\\frac{\\lambda^{k}}{k!} \\exp{-\\lambda\\,x}$"
   ]
  },
  {
   "cell_type": "markdown",
   "metadata": {
    "slideshow": {
     "slide_type": "slide"
    }
   },
   "source": [
    "# Compare Gaussian and Possion noise"
   ]
  },
  {
   "cell_type": "code",
   "execution_count": null,
   "metadata": {},
   "outputs": [],
   "source": [
    "plt.figure(figsize=[15,8])\n",
    "x=np.linspace(0,2*np.pi,100); \n",
    "y=10*np.sin(x)+11; ng=np.random.normal(0,1,size=len(x)); npoi = np.random.poisson(y);\n",
    "plt.subplot(2,2,1); plt.plot(x,y+ng);plt.plot(x,y); plt.axis('off');plt.title('Gaussian'); plt.subplot(2,2,3);plt.plot(x,ng);plt.axis('off');\n",
    "plt.subplot(2,2,2); plt.plot(x,npoi);plt.plot(x,y); plt.axis('off');plt.title('Poisson'); plt.subplot(2,2,4);plt.plot(x,npoi-y);plt.axis('off');"
   ]
  },
  {
   "cell_type": "markdown",
   "metadata": {
    "slideshow": {
     "slide_type": "slide"
    }
   },
   "source": [
    "# Noise models - Salt'n'pepper noise\n",
    "* A type of outlier noise\n",
    "* Noise frequency described as probability of outlier\n",
    "* Can be additive, multiplicative, and independent replacement\n",
    "\n",
    "### Example model\n",
    "$sp(x)=\\left\\{\\begin{array}{ll}\n",
    "-1 & x\\leq\\lambda_1\\\\ \n",
    "0 & \\lambda_1< x \\leq \\lambda_2\\\\\n",
    "1 & \\lambda_2<x\n",
    "\\end{array}\\right.\\qquad \\begin{array}{l}x\\in\\mathcal{U}(0,1)\\\\\\lambda_1<\\lambda_2\\\\\n",
    "\\lambda_1+\\lambda_2 = \\mbox{noise fraction}\n",
    "\\end{array}$"
   ]
  },
  {
   "cell_type": "markdown",
   "metadata": {
    "slideshow": {
     "slide_type": "slide"
    }
   },
   "source": [
    "# Salt'n'pepper examples"
   ]
  },
  {
   "cell_type": "code",
   "execution_count": null,
   "metadata": {
    "slideshow": {
     "slide_type": "-"
    }
   },
   "outputs": [],
   "source": [
    "def snp(dims,Pblack,Pwhite) : # Noise model function\n",
    "    uni=np.random.uniform(0,1,dims)\n",
    "    img=(Pwhite<uni).astype(float)-(uni<Pblack).astype(float)\n",
    "    return img"
   ]
  },
  {
   "cell_type": "code",
   "execution_count": null,
   "metadata": {},
   "outputs": [],
   "source": [
    "img10_90=snp([100,100],0.1,0.9); img5_95=snp([100,100],0.05,0.95);img1_99=snp([100,100],0.01,0.99)\n",
    "plt.figure(figsize=[15,5])\n",
    "plt.subplot(1,3,1); plt.imshow(img1_99,cmap='gray'); plt.title('$\\lambda_1$=1% and $\\lambda_2$=99%',fontsize=16); plt.axis('off');\n",
    "plt.subplot(1,3,2); plt.imshow(img5_95,cmap='gray'); plt.title('$\\lambda_1$=5% and $\\lambda_2$=95%',fontsize=16); plt.axis('off');\n",
    "plt.subplot(1,3,3); plt.imshow(img10_90,cmap='gray'); plt.title('$\\lambda_1$=10% and $\\lambda_2$=90%',fontsize=16); plt.axis('off');"
   ]
  },
  {
   "cell_type": "markdown",
   "metadata": {
    "slideshow": {
     "slide_type": "slide"
    }
   },
   "source": [
    "# Signal to noise ratio\n",
    "\n",
    "The Signal to noise ratio measures the noise strengh in a signal\n",
    "\n",
    "### Definition\n",
    "\n",
    "$SNR=\\frac{mean(f)}{stddev(f)}$"
   ]
  },
  {
   "cell_type": "markdown",
   "metadata": {
    "slideshow": {
     "slide_type": "slide"
    }
   },
   "source": [
    "# Signal to noise ratio for Poisson noise\n",
    "- For a Poisson distribution the $SNR \\sim \\sqrt{N}$ \n",
    "- $N$ is the number of particles $\\sim$ exposure time"
   ]
  },
  {
   "cell_type": "code",
   "execution_count": null,
   "metadata": {},
   "outputs": [],
   "source": [
    "exptime=np.array([50,100,200,500,1000,2000,5000,10000])\n",
    "snr = np.array([ 8.45949767, 11.40011621, 16.38118766, 21.12056507, 31.09116641,40.65323123, 55.60833117, 68.21108979]);\n",
    "marker_style = dict(color='cornflowerblue', linestyle='-', marker='o',markersize=10, markerfacecoloralt='gray');\n",
    "plt.figure(figsize=(15,6)) \n",
    "plt.subplot(1,3,2);plt.plot(exptime/1000,snr, **marker_style);plt.xlabel('Exposure time [s]');plt.ylabel('SNR [1]')\n",
    "img50ms=plt.imread('ext-figures/lecture03/tower_50ms.png'); img10000ms=plt.imread('ext-figures/lecture03/tower_10000ms.png');\n",
    "plt.subplot(1,3,1);plt.imshow(img50ms); plt.subplot(1,3,3); plt.imshow(img10000ms);"
   ]
  },
  {
   "cell_type": "markdown",
   "metadata": {
    "slideshow": {
     "slide_type": "slide"
    }
   },
   "source": [
    "# Useful python functions\n",
    "\n",
    "### Random number generators [numpy.random]\n",
    "Generate an $m \\times n$ random fields with different distributions:\n",
    "* __Gauss__ ```np.random.normal(mu,sigma, size=[rows,cols])```\n",
    "* __Uniform__ ```np.random.uniform(low,high,size=[rows,cols])```\n",
    "* __Poisson__ ```np.random.poisson(lambda, size=[rows,cols])\n",
    "\t\n",
    "### Statistics\n",
    "\n",
    "* ```np.mean(f)```, ```np.var(f)```, ```np.std(f)``` Computes the mean, variance, and standard deviation of an image $f$.\n",
    "* ```np.min(f)```,```np.max(f)``` Finds minimum and maximum values in $f$.\n",
    "* ```np.median(f)```, ```np.rank()``` Selects different values from the sorted data.\n"
   ]
  },
  {
   "cell_type": "markdown",
   "metadata": {
    "slideshow": {
     "slide_type": "slide"
    }
   },
   "source": [
    "# Basic filtering"
   ]
  },
  {
   "cell_type": "markdown",
   "metadata": {
    "slideshow": {
     "slide_type": "slide"
    }
   },
   "source": [
    "# What is a filter?\n",
    "\n",
    "### General definition\n",
    "A filter is a processing unit that\n",
    "* Enhances the wanted information \n",
    "* Suppresses the unwanted information\n",
    "\n",
    "<div class=\"alert alert-block alert-warning\">\n",
    "Ideally without altering relevant features beyond recognition .\n",
    "</div>\n",
    "\n"
   ]
  },
  {
   "cell_type": "markdown",
   "metadata": {
    "slideshow": {
     "slide_type": "slide"
    }
   },
   "source": [
    "# Filter characteristics\n",
    "\n",
    "Filters are characterized by the type of information they suppress"
   ]
  },
  {
   "cell_type": "markdown",
   "metadata": {
    "slideshow": {
     "slide_type": "subslide"
    }
   },
   "source": [
    "# Low-pass filters\n",
    "* Slow changes are enhanced \n",
    "* Rapid changes are suppressed \n",
    "<figure><img src=\"ext-figures/lecture03/lp_principle.svg\" style=\"height:300px\" align=\"middle\"></figure>"
   ]
  },
  {
   "cell_type": "markdown",
   "metadata": {
    "slideshow": {
     "slide_type": "subslide"
    }
   },
   "source": [
    "# High-pass filters\n",
    "* Rapid changes are enhanced \n",
    "* Slow changes are suppressed\n",
    "<figure><img src=\"ext-figures/lecture03/hp_principle.svg\" style=\"height:300px\" align=\"middle\"></figure>"
   ]
  },
  {
   "cell_type": "markdown",
   "metadata": {
    "slideshow": {
     "slide_type": "slide"
    }
   },
   "source": [
    "# Basic filters"
   ]
  },
  {
   "cell_type": "markdown",
   "metadata": {
    "slideshow": {
     "slide_type": "subslide"
    }
   },
   "source": [
    "## Linear filters\n",
    "Computed using the convolution operation\n",
    "\n",
    "$$g(x)=h*f(x)=\\int_{\\Omega}f(x-\\tau) h(\\tau) d\\tau$$\n",
    "where\n",
    "\n",
    "* __$f$__ is the image \n",
    "* __$h$__ is the convolution kernel of the filter\n",
    "\n",
    "<figure><img src=\"ext-figures/lecture03/filter_box.svg\" style=\"height:150px\" align=\"middle\"></figure>"
   ]
  },
  {
   "cell_type": "markdown",
   "metadata": {
    "slideshow": {
     "slide_type": "subslide"
    }
   },
   "source": [
    "## Low-pass filter kernels\n",
    "Low-pass filters suppress noise"
   ]
  },
  {
   "cell_type": "markdown",
   "metadata": {
    "cell_style": "split",
    "slideshow": {
     "slide_type": "-"
    }
   },
   "source": [
    "### Mean or Box filter\n",
    "All weights have the same value.\n",
    "\n",
    "Example:\n",
    "$$B=\\frac{1}{25}\\cdot\\begin{array}{|c|c|c|c|c|}\n",
    "\\hline\n",
    "1 & 1 & 1 & 1& 1\\\\\n",
    "\\hline\n",
    "1 & 1 & 1 & 1& 1\\\\\n",
    "\\hline\n",
    "1 & 1 & 1 & 1& 1\\\\\n",
    "\\hline\n",
    "1 & 1 & 1 & 1& 1\\\\\n",
    "\\hline\n",
    "1 & 1 & 1 & 1& 1\\\\\n",
    "\\hline\n",
    "\\end{array}\n",
    "$$"
   ]
  },
  {
   "cell_type": "markdown",
   "metadata": {
    "cell_style": "split",
    "slideshow": {
     "slide_type": "-"
    }
   },
   "source": [
    "### Gauss filter\n",
    "$$G=\\exp{-\\frac{x^2+y^2}{2\\,\\sigma^2}}$$\n",
    "Example:\n",
    "<figure><img src=\"ext-figures/lecture03/gauss_bell.svg\" style=\"height:300px\" align=\"middle\"></figure>"
   ]
  },
  {
   "cell_type": "markdown",
   "metadata": {
    "slideshow": {
     "slide_type": "subslide"
    }
   },
   "source": [
    "# Using a Gauss filter"
   ]
  },
  {
   "cell_type": "code",
   "execution_count": null,
   "metadata": {
    "hidde_input": true,
    "slideshow": {
     "slide_type": "-"
    }
   },
   "outputs": [],
   "source": [
    "img = plt.imread('ext-figures/lecture03/input_orig.png'); \n",
    "noise = np.random.normal(0,1,size=img.shape); snr10=img+0.1*noise; snr5=img+0.2*noise; snr2=img+0.5*noise;plt.figure(figsize=[15,8])\n",
    "plt.subplot(3,4,1); plt.imshow(img); plt.axis('off');plt.title('No noise'); plt.subplot(3,4,2); plt.imshow(snr10); plt.title('SNR=10'); plt.axis('off');plt.subplot(3,4,3); plt.imshow(snr5); plt.title('SNR=5'); plt.axis('off');plt.subplot(3,4,4); plt.imshow(snr2); plt.title('SNR=2'); plt.axis('off');\n",
    "plt.subplot(3,4,5); plt.imshow(ski.filters.gaussian(img,sigma=1)); plt.title('Gaussian $\\sigma$=1'); plt.axis('off');plt.subplot(3,4,6); plt.imshow(ski.filters.gaussian(snr10,sigma=1));  plt.axis('off');plt.subplot(3,4,7); plt.imshow(ski.filters.gaussian(snr5,sigma=1));  plt.axis('off');plt.subplot(3,4,8); plt.imshow(ski.filters.gaussian(snr2,sigma=1)); plt.axis('off');\n",
    "plt.subplot(3,4,9); plt.imshow(ski.filters.gaussian(img,sigma=3)); plt.title('Gaussian $\\sigma$=3'); plt.axis('off');plt.subplot(3,4,10); plt.imshow(ski.filters.gaussian(snr10,sigma=3));  plt.axis('off');plt.subplot(3,4,11); plt.imshow(ski.filters.gaussian(snr5,sigma=3));  plt.axis('off');plt.subplot(3,4,12); plt.imshow(ski.filters.gaussian(snr2,sigma=3)); plt.axis('off');"
   ]
  },
  {
   "cell_type": "markdown",
   "metadata": {
    "slideshow": {
     "slide_type": "subslide"
    }
   },
   "source": [
    "## How is the convolution computed\n",
    "\n",
    "<figure><img src=\"ext-figures/lecture03/principle_mean_filter.svg\" style=\"height:400px\" align=\"middle\"></figure>\n",
    "\n",
    "<div class=\"alert alert-block alert-success\">\n",
    "For a non-uniform kernel each term is weighted by its kernel weight.\n",
    "</div>"
   ]
  },
  {
   "cell_type": "markdown",
   "metadata": {
    "slideshow": {
     "slide_type": "subslide"
    }
   },
   "source": [
    "## Euclidean separability\n",
    "The asociative and commutative laws apply to convoution\n",
    "\n",
    "$$(a * b)*c=a*(b*c) \\quad \\mbox{ and } \\quad a * b = b * a $$\n",
    "\n",
    "A convolution kernel is called _separable_ if it can be split in two or more parts:\n",
    "<font size=\"3\">\n",
    "$$\\begin{array}{|c|c|c|}\n",
    "\\hline\n",
    "\\cdot & \\cdot & \\cdot\\\\\n",
    "\\hline\n",
    "\\cdot & \\cdot & \\cdot\\\\\n",
    "\\hline\n",
    "\\cdot & \\cdot& \\cdot\\\\\n",
    "\\hline\n",
    "\\end{array}=\n",
    "\\begin{array}{|c|}\n",
    "\\hline\n",
    "\\cdot \\\\\n",
    "\\hline\n",
    "\\cdot \\\\\n",
    "\\hline\n",
    "\\cdot \\\\\n",
    "\\hline\n",
    "\\end{array}\n",
    "*\n",
    "\\begin{array}{|c|c|c|}\n",
    "\\hline\n",
    "\\cdot & \\cdot & \\cdot\\\\\n",
    "\\hline\n",
    "\\end{array}$$\n",
    "</font>    \n",
    "\n",
    "$$\\exp{-\\frac{x^2+y^2}{2\\,\\sigma^2}}=\\exp{-\\frac{x^2}{2\\,\\sigma^2}}*\\exp{-\\frac{y^2}{2\\,\\sigma^2}}$$\n",
    "\n",
    "#### Gain\n",
    "Separability reduces the number of computations $\\rightarrow$ faster processing\n",
    "- 3$\\times$3 $\\rightarrow$ 9 mult and 8 add $\\Leftrightarrow$ 6 mult and 4 add\n",
    "- 3$\\times$3$\\times$3 $\\rightarrow$ 27 mult and 26 add $\\Leftrightarrow$ 9 mult and 6 add\n"
   ]
  },
  {
   "cell_type": "markdown",
   "metadata": {
    "slideshow": {
     "slide_type": "subslide"
    }
   },
   "source": [
    "## The median filter\n",
    "<figure><img src=\"ext-figures/lecture03/principle_median_filter.svg\" style=\"height:400px\" align=\"middle\"></figure>"
   ]
  },
  {
   "cell_type": "markdown",
   "metadata": {
    "slideshow": {
     "slide_type": "subslide"
    }
   },
   "source": [
    "## Comparing filters for different noise types"
   ]
  },
  {
   "cell_type": "code",
   "execution_count": null,
   "metadata": {},
   "outputs": [],
   "source": [
    "img = plt.imread('ext-figures/lecture03/grasshopper.png'); noise=img+np.random.normal(0,0.1,size=img.shape); spots=img+0.2*snp(img.shape,0,0.8); noise=(noise-noise.min())/(noise.max()-noise.min());spots=(spots-spots.min())/(spots.max()-spots.min())\n",
    "plt.figure(figsize=[15,7])\n",
    "plt.subplot(2,3,1); plt.imshow(spots); plt.title('Spots'); plt.axis('off');\n",
    "plt.subplot(2,3,2); plt.imshow(ski.filters.gaussian(spots,sigma=1)); plt.title('Gauss filter'); plt.axis('off');\n",
    "plt.subplot(2,3,3); plt.imshow(ski.filters.median(spots,disk(3))); plt.title('Median'); plt.axis('off');\n",
    "\n",
    "plt.subplot(2,3,4); plt.imshow(noise); plt.title('Gaussian noise'); plt.axis('off');\n",
    "plt.subplot(2,3,5); plt.imshow(ski.filters.gaussian(noise,sigma=1)); plt.title('Gauss filter'); plt.axis('off');\n",
    "plt.subplot(2,3,6); plt.imshow(ski.filters.median(noise,disk(3))); plt.title('Median'); plt.axis('off');"
   ]
  },
  {
   "cell_type": "markdown",
   "metadata": {
    "slideshow": {
     "slide_type": "slide"
    }
   },
   "source": [
    "## Filter example: Spot cleaning"
   ]
  },
  {
   "cell_type": "markdown",
   "metadata": {
    "cell_style": "split",
    "slideshow": {
     "slide_type": "-"
    }
   },
   "source": [
    "### Problem\n",
    "- Many neutron images are corrupted by spots that confuse following processing steps. \n",
    "- The amount, size, and intensity varies with many factors. \n",
    "### Solutions\n",
    "- :-( Low pass filter\n",
    "- :-( Median filter\n",
    "- :-) Detect spots and replace by estimate"
   ]
  },
  {
   "cell_type": "markdown",
   "metadata": {
    "cell_style": "split"
   },
   "source": [
    "### Example\n",
    "<figure><img src=\"ext-figures/lecture03/spotty_knot_closeup.png\" style=\"height:400px\" align=\"middle\"></figure>"
   ]
  },
  {
   "cell_type": "markdown",
   "metadata": {
    "cell_style": "center",
    "slideshow": {
     "slide_type": "subslide"
    }
   },
   "source": [
    "## Spot cleaning algorithm\n",
    "\n",
    "<figure><img src=\"ext-figures/lecture03/spotclean_algorithm.svg\" style=\"height:400px\" align=\"middle\"></figure>\n",
    "\n",
    "#### Parameters\n",
    "\n",
    "- $N$ Width of median filter.\n",
    "- $k$ Threshold level for outlier detection.\n"
   ]
  },
  {
   "cell_type": "markdown",
   "metadata": {
    "slideshow": {
     "slide_type": "subslide"
    }
   },
   "source": [
    "## Spot cleaning - Compare performance\n",
    "<figure><img src=\"ext-figures/lecture03/spotclean_compare.pdf\"  style=\"height:500px\" align=\"middle\"></figure>\n",
    "\n",
    "### The ImageJ ways\n",
    "\n",
    "- __Despeckle__ Median ... please avoid this one!!!\n",
    "- __Remove outliers__ Similar to cleaning described algorithm"
   ]
  },
  {
   "cell_type": "markdown",
   "metadata": {
    "slideshow": {
     "slide_type": "slide"
    }
   },
   "source": [
    "## High-pass filters\n",
    "High-pass filters enhance rapid changes $\\rightarrow$ ideal for edge detection\n",
    "\n",
    "### Typical high-pass filters:\n",
    "\n",
    "#### Gradients\n",
    "$$\\frac{\\partial}{\\partial\\,x}=\\frac{1}{2}\\cdot\\begin{array}{|c|c|}\n",
    "\\hline\n",
    "-1 & 1\\\\\n",
    "\\hline\n",
    "\\end{array}\\qquad\n",
    "\\frac{\\partial}{\\partial\\,x}=\\frac{1}{32}\\cdot\\begin{array}{|c|c|c|}\n",
    "\\hline\n",
    "-3 & 0 & 3\\\\\n",
    "\\hline\n",
    "-10 & 0 & 10\\\\\n",
    "\\hline\n",
    "-3 & 0 & 3\\\\\n",
    "\\hline\n",
    "\\end{array}\n",
    "$$\n",
    "#### Laplacian\n",
    "$$\n",
    "\\bigtriangleup=\\frac{1}{2}\\cdot\\begin{array}{|c|c|c|}\n",
    "\\hline\n",
    "1 & 2 & 1\\\\\n",
    "\\hline\n",
    "2 & -12 & 2\\\\\n",
    "\\hline\n",
    "1 & 2 & 1\\\\\n",
    "\\hline\n",
    "\\end{array}\n",
    "$$\n",
    "#### Sobel\n",
    "$$\n",
    "G=|\\nabla f|=\\sqrt{\\left(\\frac{\\partial}{\\partial\\,x}f\\right)^2 + \\left(\\frac{\\partial}{\\partial\\,y}f\\right)^2}\n",
    "$$\n"
   ]
  },
  {
   "cell_type": "markdown",
   "metadata": {
    "slideshow": {
     "slide_type": "slide"
    }
   },
   "source": [
    "## Gradient example\n",
    "<img src=\"ext-figures/lecture03/orig.png\" style=\"height:150px\">"
   ]
  },
  {
   "cell_type": "markdown",
   "metadata": {
    "cell_style": "split",
    "slideshow": {
     "slide_type": "-"
    }
   },
   "source": [
    "#### Vertical edges\n",
    "$\\frac{\\partial}{\\partial x}=\\frac{1}{32}\\cdot\\begin{array}{|c|c|c|}\n",
    "\\hline\n",
    "-3 & 0 & 3\\\\\n",
    "\\hline\n",
    "-10 & 0 & 10\\\\\n",
    "\\hline\n",
    "-3 & 0 & 3\\\\\n",
    "\\hline\n",
    "\\end{array} \\ast$"
   ]
  },
  {
   "cell_type": "markdown",
   "metadata": {
    "cell_style": "split",
    "slideshow": {
     "slide_type": "-"
    }
   },
   "source": [
    "#### Horizontal egdges\n",
    "$\\frac{\\partial}{\\partial\\,y}=\\frac{1}{32}\\cdot\\begin{array}{|c|c|c|}\n",
    "\\hline\n",
    "-3 & -10 & -3\\\\\n",
    "\\hline\n",
    "0 & 0 & 0\\\\\n",
    "\\hline\n",
    "3 & 10 & 3\\\\\n",
    "\\hline\n",
    "\\end{array}\\,\\ast\\, =$\n",
    "\n",
    "[Jaehne, 2005](https://doi.org/10.1007/3-540-27563-0)"
   ]
  },
  {
   "cell_type": "markdown",
   "metadata": {
    "slideshow": {
     "slide_type": "slide"
    }
   },
   "source": [
    "## Edge detection examples"
   ]
  },
  {
   "cell_type": "code",
   "execution_count": null,
   "metadata": {},
   "outputs": [],
   "source": [
    "img=plt.imread('ext-figures/lecture03/orig.png');\n",
    "plt.figure(figsize=[15,6])\n",
    "plt.subplot(1,2,1);plt.imshow(ski.filters.laplace(img),clim=[-0.1,0.1]); plt.title('Laplacian'); plt.colorbar();\n",
    "plt.subplot(1,2,2);plt.imshow(ski.filters.sobel(img)); plt.title('Sobel');  plt.colorbar();"
   ]
  }
 ],
 "metadata": {
  "celltoolbar": "Slideshow",
  "kernelspec": {
   "display_name": "Python 3",
   "language": "python",
   "name": "python3"
  },
  "language_info": {
   "codemirror_mode": {
    "name": "ipython",
    "version": 3
   },
   "file_extension": ".py",
   "mimetype": "text/x-python",
   "name": "python",
   "nbconvert_exporter": "python",
   "pygments_lexer": "ipython3",
   "version": "3.7.4"
  }
 },
 "nbformat": 4,
 "nbformat_minor": 2
}
