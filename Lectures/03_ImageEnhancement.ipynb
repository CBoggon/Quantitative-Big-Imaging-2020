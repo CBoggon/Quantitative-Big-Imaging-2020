{
 "cells": [
  {
   "cell_type": "code",
   "execution_count": null,
   "metadata": {},
   "outputs": [],
   "source": [
    "%matplotlib inline\n",
    "import matplotlib.pyplot as plt\n",
    "import numpy as np\n",
    "import skimage as img"
   ]
  },
  {
   "cell_type": "markdown",
   "metadata": {
    "slideshow": {
     "slide_type": "slide"
    }
   },
   "source": [
    "# ETHZ: 227-0966-00L\n",
    "# Quantitative Big Imaging\n",
    "# February 21, 2019\n",
    "\n",
    "## Image Enhancement"
   ]
  },
  {
   "cell_type": "markdown",
   "metadata": {
    "slideshow": {
     "slide_type": "slide"
    }
   },
   "source": [
    "# Measurements are rarely perfect\n",
    "<figure><img src=\"ext-figures/lecture03/imperfect_imaging_system.svg\" style=\"height:300px\" align=\"middle\"></figure>\n",
    "\n",
    "## Factors affecting the image quality\n",
    "* Resolution (Imaging system transfer functions)\n",
    "* Noise\n",
    "* Contrast\n",
    "* Inhomogeneous contrast\n",
    "* Artifacts"
   ]
  },
  {
   "cell_type": "markdown",
   "metadata": {
    "slideshow": {
     "slide_type": "notes"
    }
   },
   "source": [
    "No measurement system is perfect and therefore, you will also not get perfect images of the sample you measured. In the figure you can see the slice as it would be in a perfect world to the left and what you actually would measure with an imaging system. Some are of higher quality than others but there are still a collection of factors that have an impact on the image quality.\n",
    "* __Resolution__ Thanks to the optical system there will be some unsharpness caused by scintillator, lenses, and camera. this appears as blurring or the acquired images.\n",
    "* __Noise__ There are different sources of noise when an image is acquired. Most of them are Poisson/Binomial distributed point processes, but thanks to the light spread in the scintillator there can also be some spatially correlated noise.\n",
    "* __Contrast__ Sometimes there is a very low intensity difference between different regions of the sample. This is in particularly problematic when the signal to noise ratio is low.\n",
    "* __Inhomogeneous contrast__ The interaction between radiation and matter may introduce effects that appear as an inhomogeneous contrast. Typical such effects are beam hardening and scattering.\n",
    "* __Artifacts__ The artifacts are features in the image that are not present in the sample. Often this is caused by detector errors or interference of radiation background or seconday radiation events.  \n"
   ]
  },
  {
   "cell_type": "markdown",
   "metadata": {
    "slideshow": {
     "slide_type": "slide"
    }
   },
   "source": [
    "# A typical processing chain\n",
    "\n",
    "<figure><img src=\"ext-figures/lecture03/image_proc_chain.svg\" style=\"height:300px\" align=\"middle\"></figure>\n",
    "Today's lecture will focus on the enhancement"
   ]
  },
  {
   "cell_type": "markdown",
   "metadata": {
    "slideshow": {
     "slide_type": "notes"
    }
   },
   "source": [
    "Traditionally, the processing of image data can be divided into a series of sub tasks that provide the final resul. \n",
    "* __Acquisition__ The data must obviously be acquired and stored. There are cases when simulated data is used. Then, the acquisition is replaced by the process to simulate the data.\n",
    "* __Enhancement__ The raw data is usually not ready to be processed in the form is comes from the acquisition. It usually has noise and artifacts as we saw on the previous slide. The enhancement step suppresses unwanted information in the data.\n",
    "* __Segmentation__ The segmenation identifies different regions based on different features such as intensity distribution and shape.\n",
    "* __Post processing__ After segmentation, there may be falsely identified regions. These are removed in a post processing step. \n",
    "* __Evaluation__ The last step of the process is to make conclusions based on the image data. It could be modelling material distrbutions, measuring shapes etc."
   ]
  },
  {
   "cell_type": "markdown",
   "metadata": {
    "slideshow": {
     "slide_type": "slide"
    }
   },
   "source": [
    "# Noise and artifacts\n",
    "## The unwanted information"
   ]
  },
  {
   "cell_type": "markdown",
   "metadata": {
    "slideshow": {
     "slide_type": "slide"
    }
   },
   "source": [
    "# Noise types\n",
    "* Spatially uncorrelated noise\n",
    "* Event noise\n",
    "* Stuctured noise\n",
    "\n",
    "### Noise examples"
   ]
  },
  {
   "cell_type": "code",
   "execution_count": null,
   "metadata": {
    "slideshow": {
     "slide_type": "-"
    }
   },
   "outputs": [],
   "source": [
    "plt.figure(figsize=[12,5]);\n",
    "plt.subplot(1,3,1);plt.imshow(np.random.normal(0,1,[100,100])); plt.title('Gaussian');plt.axis('off');\n",
    "plt.subplot(1,3,2);plt.imshow(0.90<np.random.uniform(0,1,size=[100,100]),cmap='gray'); plt.title(\"Salt and pepper\"),plt.axis('off');\n",
    "plt.subplot(1,3,3);plt.imshow(img.filters.gaussian(np.random.normal(0,1,size=[100,100]),sigma=1),cmap='gray'); plt.title(\"Structured\"),plt.axis('off');\n"
   ]
  },
  {
   "cell_type": "markdown",
   "metadata": {
    "slideshow": {
     "slide_type": "slide"
    }
   },
   "source": [
    "# Gaussian noise\n",
    "* Additive\n",
    "* Easy to model \n",
    "* Law of large numbers\n",
    "\n",
    "### Distribution function\n",
    "$n(x)=\\frac{1}{\\sqrt{2\\pi\\sigma}}\\exp{-\\left(\\frac{x-\\mu}{2\\sigma}\\right)^2}$"
   ]
  },
  {
   "cell_type": "markdown",
   "metadata": {
    "slideshow": {
     "slide_type": "subslide"
    }
   },
   "source": [
    "# Poisson noise\n",
    "* Multiplicative\n",
    "* Physically correct for event counting\n",
    "\n",
    "### Distribition function \n",
    "$p(x)=\\frac{\\lambda^{k}}{k!} \\exp{-\\lambda\\,x}$"
   ]
  },
  {
   "cell_type": "markdown",
   "metadata": {
    "slideshow": {
     "slide_type": "slide"
    }
   },
   "source": [
    "# Compare Gaussian and Possion noise"
   ]
  },
  {
   "cell_type": "code",
   "execution_count": null,
   "metadata": {},
   "outputs": [],
   "source": [
    "plt.figure(figsize=[15,8])\n",
    "x=np.linspace(0,2*np.pi,100); \n",
    "y=10*np.sin(x)+11; ng=np.random.normal(0,1,size=len(x)); npoi = np.random.poisson(y);\n",
    "plt.subplot(2,2,1); plt.plot(x,y+ng);plt.plot(x,y); plt.axis('off');plt.title('Gaussian'); plt.subplot(2,2,3);plt.plot(x,ng);plt.axis('off');\n",
    "plt.subplot(2,2,2); plt.plot(x,npoi);plt.plot(x,y); plt.axis('off');plt.title('Poisson'); plt.subplot(2,2,4);plt.plot(x,npoi-y);plt.axis('off');"
   ]
  },
  {
   "cell_type": "markdown",
   "metadata": {
    "slideshow": {
     "slide_type": "slide"
    }
   },
   "source": [
    "# Noise models - Salt'n'pepper noise\n",
    "* A type of outlier noise\n",
    "* Noise frequency described as probability of outlier\n",
    "* Can be additive, multiplicative, and independent replacement\n",
    "\n",
    "### Example model\n",
    "$sp(x)=\\left\\{\\begin{array}{ll}\n",
    "-1 & x\\leq\\lambda_1\\\\ \n",
    "0 & \\lambda_1< x \\leq \\lambda_2\\\\\n",
    "1 & \\lambda_2<x\n",
    "\\end{array}\\right.\\qquad \\begin{array}{l}x\\in\\mathcal{U}(0,1)\\\\\\lambda_1<\\lambda_2\\\\\n",
    "\\lambda_1+\\lambda_2 = \\mbox{noise fraction}\n",
    "\\end{array}$"
   ]
  },
  {
   "cell_type": "markdown",
   "metadata": {
    "slideshow": {
     "slide_type": "slide"
    }
   },
   "source": [
    "# Salt'n'pepper examples"
   ]
  },
  {
   "cell_type": "code",
   "execution_count": null,
   "metadata": {
    "slideshow": {
     "slide_type": "-"
    }
   },
   "outputs": [],
   "source": [
    "def snp(dims,Pblack,Pwhite) : # Noise model function\n",
    "    uni=np.random.uniform(0,1,dims)\n",
    "    img=(l2<uni).astype(float)-(uni<Pblack).astype(float)\n",
    "    \n",
    "    return img"
   ]
  },
  {
   "cell_type": "code",
   "execution_count": null,
   "metadata": {},
   "outputs": [],
   "source": []
  }
 ],
 "metadata": {
  "celltoolbar": "Slideshow",
  "kernelspec": {
   "display_name": "Python 3",
   "language": "python",
   "name": "python3"
  },
  "language_info": {
   "codemirror_mode": {
    "name": "ipython",
    "version": 3
   },
   "file_extension": ".py",
   "mimetype": "text/x-python",
   "name": "python",
   "nbconvert_exporter": "python",
   "pygments_lexer": "ipython3",
   "version": "3.7.3"
  }
 },
 "nbformat": 4,
 "nbformat_minor": 2
}
