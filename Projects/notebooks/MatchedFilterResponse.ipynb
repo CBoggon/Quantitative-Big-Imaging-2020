{
 "cells": [
  {
   "cell_type": "code",
   "execution_count": 2,
   "metadata": {},
   "outputs": [],
   "source": [
    "import numpy as np\n",
    "import skimage.filters as flt\n",
    "import matplotlib.pyplot as plt"
   ]
  },
  {
   "cell_type": "code",
   "execution_count": 15,
   "metadata": {},
   "outputs": [],
   "source": [
    "def orientedGaussKernel(sigma=1.0,ratio=0.25, angle=0.0) :\n",
    "    size = np.ceil(sigma * 2.5).astype(int)\n",
    "    x,y = np.meshgrid(np.linspace(-size,size,2*size+1),np.linspace(-size,size,2*size+1))\n",
    "    \n",
    "    return x\n",
    "    "
   ]
  },
  {
   "cell_type": "code",
   "execution_count": 16,
   "metadata": {},
   "outputs": [],
   "source": [
    "x=orientedGaussKernel()"
   ]
  },
  {
   "cell_type": "code",
   "execution_count": 17,
   "metadata": {},
   "outputs": [
    {
     "data": {
      "text/plain": [
       "array([[-3., -2., -1.,  0.,  1.,  2.,  3.],\n",
       "       [-3., -2., -1.,  0.,  1.,  2.,  3.],\n",
       "       [-3., -2., -1.,  0.,  1.,  2.,  3.],\n",
       "       [-3., -2., -1.,  0.,  1.,  2.,  3.],\n",
       "       [-3., -2., -1.,  0.,  1.,  2.,  3.],\n",
       "       [-3., -2., -1.,  0.,  1.,  2.,  3.],\n",
       "       [-3., -2., -1.,  0.,  1.,  2.,  3.]])"
      ]
     },
     "execution_count": 17,
     "metadata": {},
     "output_type": "execute_result"
    }
   ],
   "source": [
    "x"
   ]
  },
  {
   "cell_type": "code",
   "execution_count": null,
   "metadata": {},
   "outputs": [],
   "source": []
  }
 ],
 "metadata": {
  "hide_input": false,
  "kernelspec": {
   "display_name": "Python 3",
   "language": "python",
   "name": "python3"
  },
  "language_info": {
   "codemirror_mode": {
    "name": "ipython",
    "version": 3
   },
   "file_extension": ".py",
   "mimetype": "text/x-python",
   "name": "python",
   "nbconvert_exporter": "python",
   "pygments_lexer": "ipython3",
   "version": "3.7.6"
  }
 },
 "nbformat": 4,
 "nbformat_minor": 4
}
