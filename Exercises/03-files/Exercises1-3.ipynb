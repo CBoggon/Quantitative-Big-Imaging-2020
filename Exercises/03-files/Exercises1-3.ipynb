{
 "cells": [
  {
   "cell_type": "markdown",
   "metadata": {},
   "source": [
    "# Exercise 1.1 \n",
    "\n",
    "## Import Libraries\n",
    "Python requires importing libraries and functions you need to access specific tools like science (scipy), linear algebra (numpy), and graphics (matplotlib). These libraries can be installed using the ```pip``` command line tool. Alternatively you can install an python distribution like [Anaconda](https://www.continuum.io/downloads) or [Canopy](https://www.enthought.com/products/canopy/)  which have these and many other standard package pre-installed."
   ]
  },
  {
   "cell_type": "code",
   "execution_count": null,
   "metadata": {},
   "outputs": [],
   "source": [
    "import matplotlib.pyplot as plt # plotting\n",
    "from skimage.io import imread # read in images\n",
    "import numpy as np # linear algebra / matrices\n",
    "# make the notebook interactive\n",
    "from ipywidgets import interact, interactive, fixed \n",
    "import ipywidgets as widgets #add new widgets\n",
    "from IPython.display import display\n",
    "class idict(dict):\n",
    "    def __init__(self,*args,**kwargs) : dict.__init__(self,*args,**kwargs) \n",
    "    def __str__(self): return 'ImageDictionary'\n",
    "    def __repr__(self): return 'ImageDictionary'"
   ]
  },
  {
   "cell_type": "markdown",
   "metadata": {},
   "source": [
    "## Load Images\n",
    "Make sure you extract the ```matlab.zip``` file to the same directory as this notebook so there is a ```data/``` directory (or fix the paths after the ```imread``` command"
   ]
  },
  {
   "cell_type": "code",
   "execution_count": null,
   "metadata": {},
   "outputs": [],
   "source": [
    "a=imread('data/scroll.tif')\n",
    "b=imread('data/wood.tif')\n",
    "c=imread('data/asphalt_gray.tif')"
   ]
  },
  {
   "cell_type": "markdown",
   "metadata": {},
   "source": [
    "## Showing images"
   ]
  },
  {
   "cell_type": "code",
   "execution_count": null,
   "metadata": {},
   "outputs": [],
   "source": [
    "%matplotlib inline\n",
    "# setup the plotting environment\n",
    "plt.imshow(a, cmap = 'gray') # show a single image"
   ]
  },
  {
   "cell_type": "markdown",
   "metadata": {},
   "source": [
    "### Subplots\n",
    "Here we show multiple subplots within a single figure"
   ]
  },
  {
   "cell_type": "code",
   "execution_count": null,
   "metadata": {},
   "outputs": [],
   "source": [
    "%matplotlib inline\n",
    "fig, (ax1, ax2, ax3) = plt.subplots(1, 3, figsize=(8.5,5))\n",
    "ax1.imshow(a, cmap = 'gray')\n",
    "ax2.imshow(b, cmap = 'gray')\n",
    "ax3.imshow(c, cmap = 'gray')"
   ]
  },
  {
   "cell_type": "markdown",
   "metadata": {},
   "source": [
    "## Compute SNR\n",
    "We can compute the SNR by looking at the ratio of the mean to the standard deviation in a region that is supposed to be constant\n",
    "\n",
    "$$ SNR = \\frac{\\mu_{img}}{\\sigma_{img}} $$\n"
   ]
  },
  {
   "cell_type": "code",
   "execution_count": null,
   "metadata": {},
   "outputs": [],
   "source": [
    "# Identify the region\n",
    "x1 = 0\n",
    "x2 = 200\n",
    "y1 = 800\n",
    "y2 = 1000\n",
    "\n",
    "# extract a sub image\n",
    "subA1=a[x1:x2,y1:y2];\n",
    "snrA1=np.mean(subA1)/np.std(subA1) # compute the snr\n",
    "print(\"SNR for A_1 is {}\".format(snrA1))\n",
    "plt.imshow(subA1)"
   ]
  },
  {
   "cell_type": "markdown",
   "metadata": {},
   "source": [
    "## __Tasks__\n",
    "1. Find a second region in a\n",
    "1. Repeat the procedure with images b and c"
   ]
  },
  {
   "cell_type": "markdown",
   "metadata": {},
   "source": [
    "# Exercise 1.2\n",
    "## Load the phantom image\n",
    "The ```np.mean``` command with the argument 2 averages across the 2 dimension (0 is x, 1 is y, 2 is color) for these images"
   ]
  },
  {
   "cell_type": "code",
   "execution_count": null,
   "metadata": {},
   "outputs": [],
   "source": [
    "d=np.mean(imread('data/testpattern.png'),2)\n",
    "plt.imshow(d, cmap= 'gray')"
   ]
  },
  {
   "cell_type": "markdown",
   "metadata": {},
   "source": [
    "## Create noisy image\n",
    "Change the scale values so the plot is correct, you can either adjust the slider values below or call the function yourself"
   ]
  },
  {
   "cell_type": "code",
   "execution_count": null,
   "metadata": {},
   "outputs": [],
   "source": [
    "from numpy.random import randn\n",
    "\n",
    "def show_noisy_images(scale_100, scale_10, scale_5, scale_2, scale_1):\n",
    "    fig, ((ax1,ax2,ax3),(ax4,ax5,ax6)) = plt.subplots(2, 3, figsize=(8.5,5))\n",
    "    ax1.imshow(d)\n",
    "    ax1.set_title('Original')\n",
    "\n",
    "    d_snr100=d+scale_100*randn(*d.shape);\n",
    "    ax2.imshow(d_snr100)\n",
    "    ax2.set_title('SNR 100')\n",
    "\n",
    "\n",
    "    d_snr10=d+scale_10*randn(*d.shape);\n",
    "    ax3.imshow(d_snr10)\n",
    "    ax3.set_title('SNR 10')\n",
    "\n",
    "    scale = 100 \n",
    "    d_snr5=d+scale_5*randn(*d.shape);\n",
    "    ax4.imshow(d_snr5)\n",
    "    ax4.set_title('SNR 5')\n",
    "\n",
    "    scale = 1000 \n",
    "    d_snr2=d+scale_2*randn(*d.shape);\n",
    "    ax5.imshow(d_snr100)\n",
    "    ax5.set_title('SNR 2')\n",
    "\n",
    "    scale = 5000 \n",
    "    d_snr1=d+scale_1*randn(*d.shape);\n",
    "    ax6.imshow(d_snr1)\n",
    "    ax6.set_title('SNR 1')\n",
    "    return idict({1: d_snr1, 2: d_snr2, 5: d_snr5, 10: d_snr10, 100: d_snr100})\n",
    "noisy_images = interactive(show_noisy_images, scale_100 = (0.0,1.0), scale_10 = (0.0,10.0), scale_5 = (0.0,50.0), scale_2 = (0.0,100.0), scale_1 = (0.0,200.0))\n",
    "display(noisy_images)"
   ]
  },
  {
   "cell_type": "markdown",
   "metadata": {},
   "source": [
    "# Filter the images\n",
    "You can read about the standard filters in scipy by looking at the documentation in http://docs.scipy.org/doc/scipy-0.14.0/reference/ndimage.html#module-scipy.ndimage.filters alternatively more (different) filters are available using OpenCV for the more advanced students\n",
    "\n",
    "## Uniform Filters\n",
    "The specific documentation on the filter is as below\n",
    "http://docs.scipy.org/doc/scipy-0.14.0/reference/generated/scipy.ndimage.filters.uniform_filter.html#scipy.ndimage.filters.uniform_filter\n"
   ]
  },
  {
   "cell_type": "code",
   "execution_count": null,
   "metadata": {},
   "outputs": [],
   "source": [
    "from scipy.ndimage.filters import uniform_filter\n",
    "# Size of the filter window\n",
    "N=[3,5,7];\n",
    "# Images\n",
    "noisy_image_list = noisy_images.result\n",
    "for i,filter_size in enumerate(N):\n",
    "    fig, all_axes = plt.subplots(5, 2, figsize=(6,22))\n",
    "    for ((snr,img),(ax1,ax2)) in zip(noisy_image_list.items(),all_axes):\n",
    "        ax1.imshow(img, cmap='gray')\n",
    "        ax1.set_title(\"Raw, SNR:{}\".format(snr))\n",
    "        ax2.imshow(uniform_filter(img,filter_size), cmap='gray')\n",
    "        ax2.set_title(\"N:{}, SNR:{}\".format(filter_size,snr))"
   ]
  },
  {
   "cell_type": "markdown",
   "metadata": {},
   "source": [
    "## Median Filter\n",
    "The median filter function can be found here, complete the same exercise as before using this instead\n",
    "http://docs.scipy.org/doc/scipy-0.14.0/reference/generated/scipy.ndimage.filters.median_filter.html#scipy.ndimage.filters.median_filter"
   ]
  },
  {
   "cell_type": "code",
   "execution_count": null,
   "metadata": {},
   "outputs": [],
   "source": [
    "# insert your code here"
   ]
  },
  {
   "cell_type": "markdown",
   "metadata": {},
   "source": [
    "The rest of the exercise as Matlab code, look at the functions in _scipy_ and _skimage_ to finish the execises \n",
    "\n",
    "- Select different number of levels and wavelet types (eg coif, sym, db) wname = 'sym6'; lev =2;\n",
    "- Select different noise images or even experiment images [c,s] = wavedec2(d_snr10,lev,wname);\n",
    "- Estimate the noise standard deviation from the % detail coefficients at level 1. det1 = detcoef2('compact',c,s,1); sigma = median(abs(det1))/0.6745;\n",
    "- Use wbmpen for selecting global threshold\n",
    "- for image de-noising. alpha = 1.2; thr = wbmpen(c,1,sigma,alpha);\n",
    "- Use wdencmp for de-noising the image using the above % thresholds with soft thresholding and approximation kept. keepapp = 1; % Select threshold"
   ]
  },
  {
   "cell_type": "markdown",
   "metadata": {},
   "source": [
    "## Exercise 3.2 - Diffusion filter\n",
    "Tune the filter parameters for the three experiment images "
   ]
  },
  {
   "cell_type": "code",
   "execution_count": null,
   "metadata": {},
   "outputs": [],
   "source": [
    "def nldif(img,L,sigma,m,stepsize,steps) :\n",
    "    res=img\n",
    "    \n",
    "    return res;"
   ]
  },
  {
   "cell_type": "code",
   "execution_count": null,
   "metadata": {},
   "outputs": [],
   "source": [
    "L=1000; \n",
    "sigma=1; \n",
    "m=8; \n",
    "stepsize=0.25; \n",
    "steps=10; \n",
    "\n",
    "linkaxes(ax5);\n",
    "\n",
    "%% Exercise 4 Test run\n",
    "\n",
    "% in separate file exercise4.m\n",
    "```"
   ]
  },
  {
   "cell_type": "code",
   "execution_count": null,
   "metadata": {},
   "outputs": [],
   "source": []
  }
 ],
 "metadata": {
  "kernelspec": {
   "display_name": "Python 3",
   "language": "python",
   "name": "python3"
  },
  "language_info": {
   "codemirror_mode": {
    "name": "ipython",
    "version": 3
   },
   "file_extension": ".py",
   "mimetype": "text/x-python",
   "name": "python",
   "nbconvert_exporter": "python",
   "pygments_lexer": "ipython3",
   "version": "3.6.4"
  }
 },
 "nbformat": 4,
 "nbformat_minor": 1
}
