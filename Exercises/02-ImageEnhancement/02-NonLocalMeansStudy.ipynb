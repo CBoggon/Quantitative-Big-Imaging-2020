{
 "cells": [
  {
   "cell_type": "markdown",
   "metadata": {
    "slideshow": {
     "slide_type": "slide"
    }
   },
   "source": [
    "# Studying the details of non-local means\n",
    "A. Kaestner<br/> Laboratory for Neutron Scattering and Imaging, Paul Scherrer Institut, Switzerland<br/>\n",
    "<br/>\n",
    "Non-local means is a popular method for denoising images. Here, we look at what the filter is doing. \n"
   ]
  },
  {
   "cell_type": "markdown",
   "metadata": {},
   "source": [
    "## Load some packages"
   ]
  },
  {
   "cell_type": "code",
   "execution_count": null,
   "metadata": {},
   "outputs": [],
   "source": [
    "import numpy as np\n",
    "import matplotlib.pyplot as plt\n",
    "from scipy import ndimage\n",
    "from mpl_toolkits.mplot3d import Axes3D\n",
    "import skimage.filters as flt\n",
    "import skimage.restoration as res\n",
    "\n",
    "%matplotlib inline"
   ]
  },
  {
   "cell_type": "markdown",
   "metadata": {
    "slideshow": {
     "slide_type": "slide"
    }
   },
   "source": [
    "# Load test image\n",
    "The boat image is a often used test image with many line features."
   ]
  },
  {
   "cell_type": "code",
   "execution_count": null,
   "metadata": {},
   "outputs": [],
   "source": [
    "img=plt.imread('boat.png')\n",
    "plt.imshow(img,cmap='gray')\n",
    "print(img.shape)"
   ]
  },
  {
   "cell_type": "markdown",
   "metadata": {
    "slideshow": {
     "slide_type": "slide"
    }
   },
   "source": [
    "# Look at different local neighborhoods"
   ]
  },
  {
   "cell_type": "code",
   "execution_count": null,
   "metadata": {
    "hide_input": true,
    "slideshow": {
     "slide_type": "-"
    }
   },
   "outputs": [],
   "source": [
    "def region(img,pos,M2) :\n",
    "    return img[(pos[0]-M2):(pos[0]+M2+1),(pos[1]-M2):(pos[1]+M2+1)]"
   ]
  },
  {
   "cell_type": "code",
   "execution_count": null,
   "metadata": {
    "hide_input": true,
    "slideshow": {
     "slide_type": "-"
    }
   },
   "outputs": [],
   "source": [
    "def showRegions(img,pos1,pos2,M2) :\n",
    "  #  plt.figure(figsize=(15,4))\n",
    "    plt.subplot(1,3,1)\n",
    "    plt.imshow(img, cmap='gray')\n",
    "\n",
    "    plt.plot(pos1[1],pos1[0],'ro')\n",
    "    plt.plot(pos2[1],pos2[0],'yo')\n",
    "\n",
    "    plt.subplot(1,3,2)\n",
    "    r1=region(img,pos1,M2)\n",
    "    plt.imshow(r1,clim=[0,1])\n",
    "    plt.title('Region at position 1')\n",
    "\n",
    "    plt.subplot(1,3,3)\n",
    "    r2=region(img,pos2,M2)\n",
    "    plt.imshow(r2,clim=[0,1])\n",
    "    plt.title('Region at position 2')\n",
    "    \n",
    "    idiff=np.abs(np.mean(r1)-np.mean(r2))\n",
    "    print('Intensity difference between r1 and r2 is',idiff)\n",
    "    \n",
    "    dx=pos1[0]-pos2[0]\n",
    "    dy=pos1[1]-pos2[1]\n",
    "    dist= np.sqrt(dx**2+dy**2)\n",
    "    print('Euclidean distance between p1 and p2 is',dist)\n",
    "    \n",
    "    return idiff,dist"
   ]
  },
  {
   "cell_type": "markdown",
   "metadata": {
    "slideshow": {
     "slide_type": "slide"
    }
   },
   "source": [
    "Let's look at 5x5-neighborhoods around some pixels "
   ]
  },
  {
   "cell_type": "code",
   "execution_count": null,
   "metadata": {
    "slideshow": {
     "slide_type": "-"
    }
   },
   "outputs": [],
   "source": [
    "plt.figure(figsize=(20,8))\n",
    "M=5\n",
    "pos1=[280,350]\n",
    "pos2=[300,350]\n",
    "M2=int(M/2)\n",
    "idiff1,dist1=showRegions(img,pos1,pos2,M2)"
   ]
  },
  {
   "cell_type": "markdown",
   "metadata": {
    "slideshow": {
     "slide_type": "skip"
    }
   },
   "source": [
    "As you can see, there is great difference between the average intensity in these two neighborhoods. This means, we don't want them to contribute to each others average. Let's try two new pixels:"
   ]
  },
  {
   "cell_type": "code",
   "execution_count": null,
   "metadata": {
    "slideshow": {
     "slide_type": "subslide"
    }
   },
   "outputs": [],
   "source": [
    "plt.figure(figsize=(20,8))\n",
    "M=5\n",
    "pos3=[280,350]\n",
    "pos4=[100,100]\n",
    "M2=int(M/2)\n",
    "idiff2,dist2=showRegions(img,pos3,pos4,M2)"
   ]
  },
  {
   "cell_type": "markdown",
   "metadata": {
    "slideshow": {
     "slide_type": "-"
    }
   },
   "source": [
    "These positions are much more similar and there would be a benefit to combine these two positions in an average."
   ]
  },
  {
   "cell_type": "markdown",
   "metadata": {
    "slideshow": {
     "slide_type": "subslide"
    }
   },
   "source": [
    "## Intensity difference vs. spatial distance\n",
    "Comparing at the intensity difference and euclidean distance for the two positions we see that \n",
    "\n",
    "- region remote from a pixel can be used to compute an average. \n",
    "- close regions may have great diffence in intensity\n",
    "\n",
    "This leads us to the non-local means."
   ]
  },
  {
   "cell_type": "markdown",
   "metadata": {
    "slideshow": {
     "slide_type": "slide"
    }
   },
   "source": [
    "# Non-local means algorithm\n",
    "\n",
    "$u(p)=\\frac{1}{C(p)}\\sum_{q\\in\\Omega}v(q)\\,f(p,q)$\n",
    "\n",
    "where\n",
    "- $v$ and $u$ input and result images.\n",
    "- $C(p)$ is the sum of all pixel weights as <br/>$C(p)=\\sum_{q\\in\\Omega}f(p,q)$\n",
    "\n",
    "- $f(p,q)$ is a weight function based on the intensity difference between the pixels $p$ and $q$ <br/>$f(p,q)=e^{-\\frac{|B(q)-B(p)|^2}{h^2}}$\n",
    "- $B(p)=\\sum_{i\\in N_p} w(i-p)\\cdot v(i)$, where $w(i)$ are the weights. The simple case all $w(i)=1$, but it could also be Gaussian or binomial weights.\n",
    "\n",
    "[A. Buades, \"A non-local algorithm for image denoising\". Computer Vision and Pattern Recognition, 2005. 2: 60–65.](http://doi.org/10.1109/CVPR.2005.38).\n"
   ]
  },
  {
   "cell_type": "markdown",
   "metadata": {
    "slideshow": {
     "slide_type": "slide"
    }
   },
   "source": [
    "## Looking at the diffence weights for the image relative to a single position "
   ]
  },
  {
   "cell_type": "code",
   "execution_count": null,
   "metadata": {
    "hide_input": true
   },
   "outputs": [],
   "source": [
    "def nlm_singlepos(img,pos,M,h) :\n",
    "    res=ndimage.filters.uniform_filter(img,M)\n",
    "    ref=img[pos[0],pos[1]]\n",
    "    for r in np.arange(0,img.shape[0]) :\n",
    "        for c in np.arange(0,img.shape[1]) :\n",
    "            res[r,c] = np.exp(-(res[r,c]-ref)**2/h)\n",
    "    \n",
    "    res=res/np.sum(res)\n",
    "    return res"
   ]
  },
  {
   "cell_type": "code",
   "execution_count": null,
   "metadata": {
    "hide_input": true
   },
   "outputs": [],
   "source": [
    "def testPos(img,pos,M,h) :\n",
    "    sub=nlm_singlepos(img,pos,M,h)\n",
    "    plt.imshow(sub, cmap='gray')\n",
    "    plt.plot(pos[1],pos[0],'or')\n",
    "    print(np.min(sub),np.max(sub))"
   ]
  },
  {
   "cell_type": "code",
   "execution_count": null,
   "metadata": {},
   "outputs": [],
   "source": [
    "plt.figure(figsize=(15,4))\n",
    "h=0.01\n",
    "\n",
    "plt.subplot(1,3,1)\n",
    "testPos(img,pos1,5,h)\n",
    "plt.title('Stern')\n",
    "\n",
    "pos=(230,400)\n",
    "plt.subplot(1,3,2)\n",
    "testPos(img,pos2,5,h)\n",
    "plt.title('Shadow at stern')\n",
    "\n",
    "pos=(350,300)\n",
    "plt.subplot(1,3,3)\n",
    "testPos(img,pos4,5,h)\n",
    "plt.title('Clouds')"
   ]
  },
  {
   "cell_type": "markdown",
   "metadata": {
    "slideshow": {
     "slide_type": "-"
    }
   },
   "source": [
    "Now you can see that the weight for the clouds and the stern are more similar than the shadow region. This is confirmed by the previous finding that the intensity difference is much less between these postions than to the shadow area. This is the concept of non-locality, pixels with small intensity difference are summed up. It doesn't matter how far Euclidean distance separating them."
   ]
  },
  {
   "cell_type": "markdown",
   "metadata": {
    "slideshow": {
     "slide_type": "-"
    }
   },
   "source": [
    "The new pixel value is computed as the sum of the product between image and weights. This will then be repeated for all pixels to obtain the filtered image."
   ]
  },
  {
   "cell_type": "markdown",
   "metadata": {
    "slideshow": {
     "slide_type": "slide"
    }
   },
   "source": [
    "## Try parameter $h$ \n",
    "Parameter $h$ controls the sensitivity of the filter. Below, you can see what happens when $h$ is increased."
   ]
  },
  {
   "cell_type": "code",
   "execution_count": null,
   "metadata": {
    "slideshow": {
     "slide_type": "-"
    }
   },
   "outputs": [],
   "source": [
    "plt.figure(figsize=[15,12])\n",
    "parH=[0.01,0.02,0.05,0.1]\n",
    "pos=(230,400)\n",
    "\n",
    "for i in range(len(parH)) :\n",
    "    print(parH[i])\n",
    "    plt.subplot(2,2,i+1)\n",
    "    fimg=testPos(img,pos,5,h=parH[i])\n",
    "\n",
    "    plt.title('h={}'.format(parH[i]))"
   ]
  },
  {
   "cell_type": "markdown",
   "metadata": {},
   "source": [
    "The effect of a greater value on $h$ is that a wider range of pixel values are considered for the average computation of a position. If you look at $h=0.01$, only very similar values are considered. This changes when $h$ increase and for the case of $h=0.1$ a great number of pixels contribute to the average."
   ]
  },
  {
   "cell_type": "markdown",
   "metadata": {
    "slideshow": {
     "slide_type": "slide"
    }
   },
   "source": [
    "# Putting it all together\n",
    "The non-local means filter is implemented in scikit image (module restoration). Basic use with default parameters gives:"
   ]
  },
  {
   "cell_type": "code",
   "execution_count": null,
   "metadata": {
    "slideshow": {
     "slide_type": "-"
    }
   },
   "outputs": [],
   "source": [
    "nlm=res.denoise_nl_means(img,)\n",
    "plt.imshow(nlm)"
   ]
  },
  {
   "cell_type": "markdown",
   "metadata": {
    "slideshow": {
     "slide_type": "-"
    }
   },
   "source": [
    "I.e. rather strong filter effect. But as you can see, edges are still well-preserved. You may think that the filter effect is too strong and provide patchy (piecewise constant) results. This can be tuned with sensitivity parameter $h$."
   ]
  },
  {
   "cell_type": "markdown",
   "metadata": {
    "slideshow": {
     "slide_type": "slide"
    }
   },
   "source": [
    "## Try parameter $h$\n",
    "Let's try what happens when the sensitivity parameter h changes:"
   ]
  },
  {
   "cell_type": "code",
   "execution_count": null,
   "metadata": {},
   "outputs": [],
   "source": [
    "plt.figure(figsize=[12,10])\n",
    "parH=[0.01,0.02,0.05,0.1]\n",
    "\n",
    "for i in range(len(parH)) :\n",
    "    print(parH[i])\n",
    "    fimg=res.denoise_nl_means(img,h=parH[i])\n",
    "    plt.subplot(2,2,i+1)\n",
    "    plt.imshow(fimg)\n",
    "    plt.title('h={}'.format(parH[i]))"
   ]
  },
  {
   "cell_type": "markdown",
   "metadata": {
    "slideshow": {
     "slide_type": "slide"
    }
   },
   "source": [
    "## Try noise performance\n",
    "Now let's add some noise to the data:\n",
    "### Gaussian\n",
    "Gaussian noise can be handled well, but there may be a need to adjust $h$ to cope with lower SNR"
   ]
  },
  {
   "cell_type": "code",
   "execution_count": null,
   "metadata": {},
   "outputs": [],
   "source": [
    "SNR=[0.01, 0.02,0.05, 0.1]\n",
    "plt.figure(figsize=[12,10])\n",
    "\n",
    "for i in range(len(SNR)) :\n",
    "    nimg=img+np.random.normal(0,SNR[i],size=img.shape)\n",
    "    fimg=res.denoise_nl_means(nimg,h=0.05) \n",
    "    plt.subplot(2,2,i+1)\n",
    "    plt.imshow(fimg)\n",
    "    plt.title('SNR={}'.format(1/SNR[i]))"
   ]
  },
  {
   "cell_type": "markdown",
   "metadata": {
    "slideshow": {
     "slide_type": "slide"
    }
   },
   "source": [
    "## Final remarks\n",
    "Using $h=0.05$ the filter handles high SNR well, but the performance breaks down for SNR=10. Try to see how it performs with $h=0.1$.\n",
    "\n",
    "Now you can see that the weight for the clouds and the stern are more similar than the shadow region. This is confirmed by the previous finding that the intensity difference is much less between these postions than to the shadow area. This is the concept of non-locality, pixels with small intensity difference are summed up. It doesn't matter how far Euclidean distance separating them."
   ]
  }
 ],
 "metadata": {
  "celltoolbar": "Slideshow",
  "hide_input": false,
  "kernelspec": {
   "display_name": "Python 3",
   "language": "python",
   "name": "python3"
  },
  "language_info": {
   "codemirror_mode": {
    "name": "ipython",
    "version": 3
   },
   "file_extension": ".py",
   "mimetype": "text/x-python",
   "name": "python",
   "nbconvert_exporter": "python",
   "pygments_lexer": "ipython3",
   "version": "3.7.3"
  },
  "nteract": {
   "version": "0.8.3"
  }
 },
 "nbformat": 4,
 "nbformat_minor": 2
}
